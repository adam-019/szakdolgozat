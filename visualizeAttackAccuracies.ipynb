{
  "nbformat": 4,
  "nbformat_minor": 0,
  "metadata": {
    "colab": {
      "name": "Copy of visualizeAttackAccuracies.ipynb",
      "provenance": [],
      "collapsed_sections": [],
      "toc_visible": true,
      "authorship_tag": "ABX9TyOP2Vd3iMsGlXlgyyCfKjnb",
      "include_colab_link": true
    },
    "kernelspec": {
      "name": "python3",
      "display_name": "Python 3"
    }
  },
  "cells": [
    {
      "cell_type": "markdown",
      "metadata": {
        "id": "view-in-github",
        "colab_type": "text"
      },
      "source": [
        "<a href=\"https://colab.research.google.com/github/adam-019/szakdolgozat/blob/master/visualizeAttackAccuracies.ipynb\" target=\"_parent\"><img src=\"https://colab.research.google.com/assets/colab-badge.svg\" alt=\"Open In Colab\"/></a>"
      ]
    },
    {
      "cell_type": "code",
      "metadata": {
        "id": "AlDxZ1BIL2x2",
        "colab_type": "code",
        "colab": {}
      },
      "source": [
        "import matplotlib.pyplot as plt\n",
        "\n",
        "def get_data(file):\n",
        "  plt.ylabel('accuracy')\n",
        "  plt.xlabel('epoch')\n",
        "  with open(file) as f:\n",
        "      read_data = f.read()\n",
        "\n",
        "  arr = read_data.split(',')\n",
        "\n",
        "  indexes = []\n",
        "  for i in range(int(len(arr) / 3)):\n",
        "      indexes.append(i * 10)\n",
        "\n",
        "  for j in range(len(arr)):\n",
        "    arr[j] = float(arr[j]) * 100\n",
        "\n",
        "  return indexes, arr\n",
        "\n",
        "def show_data(file, title):\n",
        "  indexes, arr = get_data(file)\n",
        "  plt.title(title)\n",
        "  plt.plot(indexes, arr[0:len(arr):3], 'r')\n",
        "  plt.plot(indexes, arr[1:len(arr):3], 'g')\n",
        "  plt.plot(indexes, arr[2:len(arr):3], 'y')\n",
        "  plt.show()\n",
        "\n",
        "show_data('df500.txt', 'Deep Fool 500, max_iter: 50, overshoot:0.02, clip_max: 1.')\n",
        "show_data('df1000.30iter.txt', 'Deep Fool 1000, max_iter: 30, overshoot:0.02, clip_max: 1.')\n",
        "show_data('df1500modified.txt', 'Deep Fool 1500, max_iter: 50, overshoot:0.01, clip_max: 0.3')\n",
        "show_data('df1500.txt', 'Deep Fool 1500, max_iter: 50, overshoot:0.02, clip_max: 1.')\n",
        "show_data('df1500recreate.txt', 'Deep Fool 1500, recreate, overshoot:0.02, clip_max: 1.')\n",
        "show_data('df3000.txt', 'Deep Fool 3000, max_iter: 50, overshoot:0.02, clip_max: 1.')\n",
        "show_data('df3000modified.txt', 'Deep Fool 3000, max_iter: 50, overshoot:0.01, clip_max: 0.2')\n",
        "show_data('df30k.txt', 'Deep Fool 30 000, max_iter: 50, overshoot:0.02, clip_max: 1.')\n",
        "#show_data('pgd30k0.2eps0.2ADVeps0.05iter3k.txt', 'PGD (0.2 eps, 0.05 eps_iter)')\n",
        "#show_data('pgd30k0.3eps0.3ADVeps0.05iter.txt', 'PGD (0.3 eps, 0.05 eps_iter)')\n",
        "#show_data('pgd30k0.6eps0.3ADVeps0.05iter.txt','PGD (0.6 eps, 0.05 eps_iter, eval_eps: 0.3)')\n",
        "#show_data('pgd30k0.6eps0.3ADVeps0.08iter.txt', 'PGD (0.6 eps, eval 0.3 eps, 0.08 eps_iter, eval_eps: 0.3)')\n",
        "#show_data('pgd30k0.6eps0.6ADVeps0.05iter.txt', 'PGD (0.6 eps, 0.05 eps_iter)')\n",
        "#show_data('pgd30k0.6eps0.6ADVeps0.08iter.txt', 'PGD (0.6 eps, 0.08 eps_iter)')"
      ],
      "execution_count": 0,
      "outputs": []
    },
    {
      "cell_type": "code",
      "metadata": {
        "id": "8x-lfmvNwmxh",
        "colab_type": "code",
        "colab": {}
      },
      "source": [
        "#reload files\n",
        "\n",
        "import os\n",
        "os.system('rm *')\n",
        "\n",
        "from google.colab import files\n",
        "import io\n",
        "\n",
        "uploaded = files.upload()"
      ],
      "execution_count": 0,
      "outputs": []
    }
  ]
}